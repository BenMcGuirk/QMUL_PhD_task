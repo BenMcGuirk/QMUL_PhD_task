{
 "cells": [
  {
   "cell_type": "code",
   "execution_count": 4,
   "metadata": {},
   "outputs": [
    {
     "data": {
      "text/plain": [
       "'\\nNotebook for logistic regression\\n'"
      ]
     },
     "execution_count": 4,
     "metadata": {},
     "output_type": "execute_result"
    }
   ],
   "source": [
    "\"\"\"\n",
    "Notebook for logistic regression\n",
    "\"\"\""
   ]
  },
  {
   "cell_type": "code",
   "execution_count": 5,
   "metadata": {},
   "outputs": [],
   "source": [
    "import numpy as np\n",
    "import pandas as pd\n",
    "import matplotlib.pyplot as plt\n",
    "from sklearn.impute import SimpleImputer\n",
    "import copy\n",
    "import math"
   ]
  },
  {
   "cell_type": "code",
   "execution_count": 6,
   "metadata": {},
   "outputs": [],
   "source": [
    "train_data = pd.read_excel('../../data/preprocessed/train_data.xlsx')\n",
    "cv_data = pd.read_excel('../../data/preprocessed/cv_data.xlsx')\n",
    "test_data = pd.read_excel('../../data/preprocessed/test_data.xlsx')"
   ]
  },
  {
   "cell_type": "code",
   "execution_count": 7,
   "metadata": {},
   "outputs": [],
   "source": [
    "# Impute missing values with mean\n",
    "imputer = SimpleImputer(strategy='mean')\n",
    "train_data = imputer.fit_transform(train_data)\n",
    "cv_data = imputer.transform(cv_data)\n",
    "test_data = imputer.transform(test_data)"
   ]
  },
  {
   "cell_type": "code",
   "execution_count": 8,
   "metadata": {},
   "outputs": [],
   "source": [
    "# split into X and y\n",
    "X_train = train_data[:, 1:]\n",
    "y_train = train_data[:, 0]\n",
    "X_cv = cv_data[:, 1:]\n",
    "y_cv = cv_data[:, 0]\n",
    "X_test = test_data[:, 1:]\n",
    "y_test = test_data[:, 0]"
   ]
  },
  {
   "cell_type": "code",
   "execution_count": 9,
   "metadata": {},
   "outputs": [],
   "source": [
    "def compute_cost_logistic(X, y, w, b):\n",
    "    m = len(y)\n",
    "    h_theta_x = 1 / (1 + np.exp(-(np.dot(X, w) + b)))\n",
    "    cost = -np.sum(y * np.log(h_theta_x) + (1 - y) * np.log(1 - h_theta_x)) / m\n",
    "    return cost"
   ]
  },
  {
   "cell_type": "code",
   "execution_count": 10,
   "metadata": {},
   "outputs": [],
   "source": [
    "def sigmoid(z):\n",
    "    return 1/(1+np.exp(-z))\n",
    "\n",
    "def compute_gradient_logistic(X, y, w, b): \n",
    "    \"\"\"\n",
    "    Computes the gradient for logistic regression \n",
    " \n",
    "    Args:\n",
    "      X (ndarray (m,n): Data, m examples with n features\n",
    "      y (ndarray (m,)): target values\n",
    "      w (ndarray (n,)): model parameters  \n",
    "      b (scalar)      : model parameter\n",
    "    Returns\n",
    "      dj_dw (ndarray (n,)): The gradient of the cost w.r.t. the parameters w. \n",
    "      dj_db (scalar)      : The gradient of the cost w.r.t. the parameter b. \n",
    "    \"\"\"\n",
    "    m,n = X.shape\n",
    "    dj_dw = np.zeros((n,))                           #(n,)\n",
    "    dj_db = 0.\n",
    "\n",
    "    for i in range(m):\n",
    "        f_wb_i = sigmoid(np.dot(X[i],w) + b)          #(n,)(n,)=scalar\n",
    "        err_i  = f_wb_i  - y[i]                       #scalar\n",
    "        for j in range(n):\n",
    "            dj_dw[j] = dj_dw[j] + err_i * X[i,j]      #scalar\n",
    "        dj_db = dj_db + err_i\n",
    "    dj_dw = dj_dw/m                                   #(n,)\n",
    "    dj_db = dj_db/m                                   #scalar\n",
    "        \n",
    "    return dj_db, dj_dw"
   ]
  },
  {
   "cell_type": "code",
   "execution_count": 11,
   "metadata": {},
   "outputs": [],
   "source": [
    "def gradient_descent(X, y, w_in, b_in, alpha, num_iters, cost_threshold): \n",
    "    \"\"\"\n",
    "    Performs batch gradient descent\n",
    "    \n",
    "    Args:\n",
    "      X (ndarray (m,n)   : Data, m examples with n features\n",
    "      y (ndarray (m,))   : target values\n",
    "      w_in (ndarray (n,)): Initial values of model parameters  \n",
    "      b_in (scalar)      : Initial values of model parameter\n",
    "      alpha (float)      : Learning rate\n",
    "      num_iters (scalar) : number of iterations to run gradient descent\n",
    "      \n",
    "    Returns:\n",
    "      w (ndarray (n,))   : Updated values of parameters\n",
    "      b (scalar)         : Updated value of parameter \n",
    "    \"\"\"\n",
    "    # An array to store cost J and w's at each iteration primarily for graphing later\n",
    "    J_history = []\n",
    "    w = copy.deepcopy(w_in)  #avoid modifying global w within function\n",
    "    b = b_in\n",
    "    \n",
    "    for i in range(num_iters):\n",
    "        # Calculate the gradient and update the parameters\n",
    "        dj_db, dj_dw = compute_gradient_logistic(X, y, w, b)   \n",
    "\n",
    "        # Update Parameters using w, b, alpha and gradient\n",
    "        w = w - alpha * dj_dw               \n",
    "        b = b - alpha * dj_db               \n",
    "      \n",
    "        # Save cost J at each iteration\n",
    "        if i<100000:      # prevent resource exhaustion \n",
    "            J_history.append( compute_cost_logistic(X, y, w, b) )\n",
    "\n",
    "        # Print cost\n",
    "        print(f\"Iteration {i:4d}: Cost {J_history[-1]}   \")\n",
    "\n",
    "        # Check for convergence\n",
    "        if i!= 0 and abs(J_history[i-1] - J_history[i]) < cost_threshold:\n",
    "            print(f\"Converged at iteration {i}. Change in cost: {abs(J_history[i-1] - J_history[i])}\")\n",
    "            break\n",
    "        \n",
    "    return w, b, J_history         #return final w,b and J history for graphing"
   ]
  },
  {
   "cell_type": "code",
   "execution_count": 12,
   "metadata": {},
   "outputs": [
    {
     "name": "stdout",
     "output_type": "stream",
     "text": [
      "Iteration    0: Cost 0.5631982531155912   \n",
      "Iteration    1: Cost 0.4889821652087534   \n",
      "Iteration    2: Cost 0.4448418165195707   \n",
      "Iteration    3: Cost 0.4173401510710706   \n",
      "Iteration    4: Cost 0.3994739437450503   \n",
      "Iteration    5: Cost 0.38745365669543164   \n",
      "Iteration    6: Cost 0.37913017802116894   \n",
      "Iteration    7: Cost 0.3732284313326753   \n",
      "Iteration    8: Cost 0.36896090887815275   \n",
      "Iteration    9: Cost 0.3658240269162005   \n",
      "Iteration   10: Cost 0.3634860093323348   \n",
      "Iteration   11: Cost 0.36172260874619055   \n",
      "Iteration   12: Cost 0.36037888690021175   \n",
      "Iteration   13: Cost 0.35934574207421766   \n",
      "Iteration   14: Cost 0.3585450742616799   \n",
      "Converged at iteration 14. Change in cost: 0.0008006678125377364\n",
      "\n",
      "updated parameters: w:[0.0130481  0.00676636 0.12957982], b:-1.816397546531555\n"
     ]
    }
   ],
   "source": [
    "w_tmp  = np.zeros_like(X_train[0])\n",
    "b_tmp  = 0.\n",
    "alph = 1\n",
    "iters = 10000\n",
    "cost_threshold = 0.001\n",
    "\n",
    "w_out, b_out, _ = gradient_descent(X_train, y_train, w_tmp, b_tmp, alph, iters, cost_threshold) \n",
    "print(f\"\\nupdated parameters: w:{w_out}, b:{b_out}\")"
   ]
  },
  {
   "cell_type": "code",
   "execution_count": 13,
   "metadata": {},
   "outputs": [
    {
     "data": {
      "image/png": "[encoded data removed]",
      "text/plain": [
       "<Figure size 640x480 with 1 Axes>"
      ]
     },
     "metadata": {},
     "output_type": "display_data"
    }
   ],
   "source": [
    "iteration_costs = [\n",
    "    (0, 0.5631982531155912),\n",
    "    (1, 0.4889821652087534),\n",
    "    (2, 0.4448418165195707),\n",
    "    (3, 0.4173401510710706),\n",
    "    (4, 0.3994739437450503),\n",
    "    (5, 0.38745365669543164),\n",
    "    (6, 0.37913017802116894),\n",
    "    (7, 0.3732284313326753),\n",
    "    (8, 0.36896090887815275),\n",
    "    (9, 0.3658240269162005),\n",
    "    (10, 0.3634860093323348),\n",
    "    (11, 0.36172260874619055),\n",
    "    (12, 0.36037888690021175),\n",
    "    (13, 0.35934574207421766),\n",
    "    (14, 0.3585450742616799)\n",
    "]\n",
    "\n",
    "# Extract iteration numbers and cost values\n",
    "iteration_numbers, cost_values = zip(*iteration_costs)\n",
    "\n",
    "# Plot\n",
    "plt.plot(iteration_numbers, cost_values, marker='o')\n",
    "plt.title('Gradient Descent Convergence')\n",
    "plt.xlabel('Iterations')\n",
    "plt.ylabel('Cost')\n",
    "plt.show()\n"
   ]
  },
  {
   "cell_type": "code",
   "execution_count": 14,
   "metadata": {},
   "outputs": [],
   "source": [
    "# Evaluate performance on cv and test data\n",
    "# Create predictions for cv and test data\n",
    "def predict(X, w, b):\n",
    "    \"\"\"\n",
    "    Predicts the class for each data point in X\n",
    "\n",
    "    Args:\n",
    "      X (ndarray (m,n)): Data, m examples with n features\n",
    "      w (ndarray (n,)): model parameters  \n",
    "      b (scalar)      : model parameter\n",
    "    Returns\n",
    "      ndarray (m,): The predicted class for each example\n",
    "    \"\"\"\n",
    "    m = X.shape[0]\n",
    "    y_pred = np.zeros((m,))\n",
    "    for i in range(m):\n",
    "        y_pred[i] = 1 if sigmoid(np.dot(X[i], w) + b) >= 0.5 else 0\n",
    "    return y_pred\n"
   ]
  },
  {
   "cell_type": "code",
   "execution_count": 16,
   "metadata": {},
   "outputs": [],
   "source": [
    "# Compare predictions with ground truth to compute accuracy\n",
    "def accuracy(y_true, y_pred):\n",
    "    \"\"\"\n",
    "    Computes the accuracy of the predictions\n",
    "\n",
    "    Args:\n",
    "      y_true (ndarray (m,)): The true class labels\n",
    "      y_pred (ndarray (m,)): The predicted class labels\n",
    "    Returns\n",
    "      float: The accuracy\n",
    "    \"\"\"\n",
    "    return np.sum(y_true == y_pred) / len(y_true)\n"
   ]
  },
  {
   "cell_type": "code",
   "execution_count": 18,
   "metadata": {},
   "outputs": [
    {
     "name": "stdout",
     "output_type": "stream",
     "text": [
      "Accuracy on train data: 88.47%\n",
      "Accuracy on cv data: 89.11%\n",
      "Accuracy on test data: 88.61%\n"
     ]
    }
   ],
   "source": [
    "# Calculate accuracy on train, cv and test data\n",
    "y_train_pred = predict(X_train, w_out, b_out)\n",
    "y_cv_pred = predict(X_cv, w_out, b_out)\n",
    "y_test_pred = predict(X_test, w_out, b_out)\n",
    "print(f\"Accuracy on train data: {accuracy(y_train, y_train_pred):.2%}\")\n",
    "print(f\"Accuracy on cv data: {accuracy(y_cv, y_cv_pred):.2%}\")\n",
    "print(f\"Accuracy on test data: {accuracy(y_test, y_test_pred):.2%}\")"
   ]
  },
  {
   "cell_type": "code",
   "execution_count": 19,
   "metadata": {},
   "outputs": [
    {
     "data": {
      "image/png": "[encoded data removed]",
      "text/plain": [
       "<Figure size 640x480 with 1 Axes>"
      ]
     },
     "metadata": {},
     "output_type": "display_data"
    }
   ],
   "source": [
    "# Plot the coefficients\n",
    "plt.bar(range(len(w_out)), w_out)\n",
    "plt.title('Coefficients')\n",
    "plt.xlabel('Coefficient index')\n",
    "plt.ylabel('Coefficient value')\n",
    "plt.show()"
   ]
  }
 ],
 "metadata": {
  "kernelspec": {
   "display_name": "venv",
   "language": "python",
   "name": "python3"
  },
  "language_info": {
   "codemirror_mode": {
    "name": "ipython",
    "version": 3
   },
   "file_extension": ".py",
   "mimetype": "text/x-python",
   "name": "python",
   "nbconvert_exporter": "python",
   "pygments_lexer": "ipython3",
   "version": "3.10.5"
  }
 },
 "nbformat": 4,
 "nbformat_minor": 2
}
