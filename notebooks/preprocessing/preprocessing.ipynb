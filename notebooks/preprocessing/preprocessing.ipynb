{
 "cells": [
  {
   "cell_type": "code",
   "execution_count": 1,
   "metadata": {},
   "outputs": [],
   "source": [
    "import pandas as pd\n",
    "import openpyxl\n",
    "import sys\n",
    "sys.path.append(\"../../src/\")\n",
    "from data_preprocessing.isolation_forest import remove_outliers\n",
    "from data_preprocessing.train_test_splitter import split_data\n",
    "from data_preprocessing.z_score_normalization import normalize_data\n",
    "\n"
   ]
  },
  {
   "cell_type": "code",
   "execution_count": 2,
   "metadata": {},
   "outputs": [],
   "source": [
    "# Load data from Excel file\n",
    "df = pd.read_excel('../../data/raw/raw_data.xlsx')\n"
   ]
  },
  {
   "cell_type": "code",
   "execution_count": 3,
   "metadata": {},
   "outputs": [
    {
     "data": {
      "text/html": [
       "<div>\n",
       "<style scoped>\n",
       "    .dataframe tbody tr th:only-of-type {\n",
       "        vertical-align: middle;\n",
       "    }\n",
       "\n",
       "    .dataframe tbody tr th {\n",
       "        vertical-align: top;\n",
       "    }\n",
       "\n",
       "    .dataframe thead th {\n",
       "        text-align: right;\n",
       "    }\n",
       "</style>\n",
       "<table border=\"1\" class=\"dataframe\">\n",
       "  <thead>\n",
       "    <tr style=\"text-align: right;\">\n",
       "      <th></th>\n",
       "      <th>case</th>\n",
       "      <th>AGE</th>\n",
       "      <th>BMI</th>\n",
       "      <th>density</th>\n",
       "    </tr>\n",
       "  </thead>\n",
       "  <tbody>\n",
       "    <tr>\n",
       "      <th>0</th>\n",
       "      <td>1</td>\n",
       "      <td>38</td>\n",
       "      <td>21.8</td>\n",
       "      <td>40</td>\n",
       "    </tr>\n",
       "    <tr>\n",
       "      <th>1</th>\n",
       "      <td>0</td>\n",
       "      <td>43</td>\n",
       "      <td>32.3</td>\n",
       "      <td>5</td>\n",
       "    </tr>\n",
       "    <tr>\n",
       "      <th>2</th>\n",
       "      <td>0</td>\n",
       "      <td>46</td>\n",
       "      <td>23.0</td>\n",
       "      <td>45</td>\n",
       "    </tr>\n",
       "    <tr>\n",
       "      <th>3</th>\n",
       "      <td>0</td>\n",
       "      <td>52</td>\n",
       "      <td>19.6</td>\n",
       "      <td>40</td>\n",
       "    </tr>\n",
       "    <tr>\n",
       "      <th>4</th>\n",
       "      <td>0</td>\n",
       "      <td>59</td>\n",
       "      <td>26.2</td>\n",
       "      <td>40</td>\n",
       "    </tr>\n",
       "  </tbody>\n",
       "</table>\n",
       "</div>"
      ],
      "text/plain": [
       "   case  AGE   BMI  density\n",
       "0     1   38  21.8       40\n",
       "1     0   43  32.3        5\n",
       "2     0   46  23.0       45\n",
       "3     0   52  19.6       40\n",
       "4     0   59  26.2       40"
      ]
     },
     "execution_count": 3,
     "metadata": {},
     "output_type": "execute_result"
    }
   ],
   "source": [
    "\n",
    "# Display the first few rows of the dataframe to inspect the data\n",
    "df.head()\n"
   ]
  },
  {
   "cell_type": "code",
   "execution_count": 4,
   "metadata": {},
   "outputs": [],
   "source": [
    "\n",
    "# Separate target variable (y) and features (x)\n",
    "y_column = 'case'  # Column name\n",
    "X_columns = ['AGE', 'BMI', 'density']  # Column names\n",
    "\n",
    "y = df[y_column] # Seperate target variable y, and features X from dataframe\n",
    "X = df[X_columns]\n"
   ]
  },
  {
   "cell_type": "code",
   "execution_count": 5,
   "metadata": {},
   "outputs": [
    {
     "name": "stdout",
     "output_type": "stream",
     "text": [
      "Train data number of examples:\n",
      "639\n",
      "CV data number of examples:\n",
      "213\n",
      "Test data number of examples:\n",
      "213\n"
     ]
    }
   ],
   "source": [
    "\n",
    "# Apply train-test split\n",
    "train_data, cv_data, test_data = split_data(X)\n",
    "\n",
    "# Test number of examples in train, cv and test sets\n",
    "print(\"Train data number of examples:\")\n",
    "print(len(train_data))\n",
    "print(\"CV data number of examples:\")\n",
    "print(len(cv_data))\n",
    "print(\"Test data number of examples:\")\n",
    "print(len(test_data))\n"
   ]
  },
  {
   "cell_type": "code",
   "execution_count": 6,
   "metadata": {},
   "outputs": [],
   "source": [
    "\n",
    "# Apply Isolation Forest to detect outliers and remove them from each set (save removed data in a separate dataframe)\n",
    "train_data, removed_data1 = remove_outliers(train_data)\n",
    "cv_data, removed_data2 = remove_outliers(cv_data)\n",
    "test_data, removed_data3 = remove_outliers(test_data)\n",
    "removed_data = pd.concat([removed_data1, removed_data2, removed_data3])\n"
   ]
  },
  {
   "cell_type": "code",
   "execution_count": 8,
   "metadata": {},
   "outputs": [
    {
     "name": "stdout",
     "output_type": "stream",
     "text": [
      "Train data number of outliers:\n",
      "32\n",
      "CV data number of outliers:\n",
      "11\n",
      "Test data number of outliers:\n",
      "11\n"
     ]
    }
   ],
   "source": [
    "\n",
    "# Print number of outliers in each set\n",
    "print(\"Train data number of outliers:\")\n",
    "print(len(removed_data1))\n",
    "print(\"CV data number of outliers:\")\n",
    "print(len(removed_data2))\n",
    "print(\"Test data number of outliers:\")\n",
    "print(len(removed_data3))\n"
   ]
  },
  {
   "cell_type": "code",
   "execution_count": null,
   "metadata": {},
   "outputs": [],
   "source": [
    "\n",
    "# Apply Z-score normalization to scale the features for each set\n",
    "train_data = normalize_data(train_data)\n",
    "cv_data = normalize_data(cv_data)\n",
    "test_data = normalize_data(test_data)\n"
   ]
  },
  {
   "cell_type": "code",
   "execution_count": null,
   "metadata": {},
   "outputs": [],
   "source": [
    "\n",
    "# Save the preprocessed data to one Excel file and the removed outliers to another Excel file\n",
    "train_data.to_excel('train_data.xlsx', index=False)\n",
    "cv_data.to_excel('cv_data.xlsx', index=False)\n",
    "test_data.to_excel('test_data.xlsx', index=False)\n",
    "removed_data.to_excel('removed_data.xlsx', index=False)\n"
   ]
  }
 ],
 "metadata": {
  "kernelspec": {
   "display_name": "venv",
   "language": "python",
   "name": "python3"
  },
  "language_info": {
   "codemirror_mode": {
    "name": "ipython",
    "version": 3
   },
   "file_extension": ".py",
   "mimetype": "text/x-python",
   "name": "python",
   "nbconvert_exporter": "python",
   "pygments_lexer": "ipython3",
   "version": "3.10.5"
  }
 },
 "nbformat": 4,
 "nbformat_minor": 2
}
