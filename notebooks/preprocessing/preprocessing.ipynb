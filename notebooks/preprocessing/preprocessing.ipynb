{
 "cells": [
  {
   "cell_type": "code",
   "execution_count": 2,
   "metadata": {},
   "outputs": [
    {
     "data": {
      "text/plain": [
       "'\\nNotebook for preprocessing the data\\n'"
      ]
     },
     "execution_count": 2,
     "metadata": {},
     "output_type": "execute_result"
    }
   ],
   "source": [
    "\"\"\"\n",
    "Notebook for preprocessing the data\n",
    "\"\"\""
   ]
  },
  {
   "cell_type": "code",
   "execution_count": 3,
   "metadata": {},
   "outputs": [],
   "source": [
    "import pandas as pd\n",
    "import openpyxl\n",
    "import sys\n",
    "sys.path.append('../../')\n",
    "from src.data_preprocessing.isolation_forest import remove_outliers\n",
    "from src.data_preprocessing.train_test_splitter import split_data\n",
    "from src.data_preprocessing.z_score_normalization import normalize_data"
   ]
  },
  {
   "cell_type": "code",
   "execution_count": 4,
   "metadata": {},
   "outputs": [],
   "source": [
    "# Load data from Excel file\n",
    "df = pd.read_excel('../../data/raw/raw_data.xlsx')"
   ]
  },
  {
   "cell_type": "code",
   "execution_count": 5,
   "metadata": {},
   "outputs": [
    {
     "data": {
      "text/html": [
       "<div>\n",
       "<style scoped>\n",
       "    .dataframe tbody tr th:only-of-type {\n",
       "        vertical-align: middle;\n",
       "    }\n",
       "\n",
       "    .dataframe tbody tr th {\n",
       "        vertical-align: top;\n",
       "    }\n",
       "\n",
       "    .dataframe thead th {\n",
       "        text-align: right;\n",
       "    }\n",
       "</style>\n",
       "<table border=\"1\" class=\"dataframe\">\n",
       "  <thead>\n",
       "    <tr style=\"text-align: right;\">\n",
       "      <th></th>\n",
       "      <th>case</th>\n",
       "      <th>AGE</th>\n",
       "      <th>BMI</th>\n",
       "      <th>density</th>\n",
       "    </tr>\n",
       "  </thead>\n",
       "  <tbody>\n",
       "    <tr>\n",
       "      <th>0</th>\n",
       "      <td>1</td>\n",
       "      <td>38</td>\n",
       "      <td>21.8</td>\n",
       "      <td>40</td>\n",
       "    </tr>\n",
       "    <tr>\n",
       "      <th>1</th>\n",
       "      <td>0</td>\n",
       "      <td>43</td>\n",
       "      <td>32.3</td>\n",
       "      <td>5</td>\n",
       "    </tr>\n",
       "    <tr>\n",
       "      <th>2</th>\n",
       "      <td>0</td>\n",
       "      <td>46</td>\n",
       "      <td>23.0</td>\n",
       "      <td>45</td>\n",
       "    </tr>\n",
       "    <tr>\n",
       "      <th>3</th>\n",
       "      <td>0</td>\n",
       "      <td>52</td>\n",
       "      <td>19.6</td>\n",
       "      <td>40</td>\n",
       "    </tr>\n",
       "    <tr>\n",
       "      <th>4</th>\n",
       "      <td>0</td>\n",
       "      <td>59</td>\n",
       "      <td>26.2</td>\n",
       "      <td>40</td>\n",
       "    </tr>\n",
       "  </tbody>\n",
       "</table>\n",
       "</div>"
      ],
      "text/plain": [
       "   case  AGE   BMI  density\n",
       "0     1   38  21.8       40\n",
       "1     0   43  32.3        5\n",
       "2     0   46  23.0       45\n",
       "3     0   52  19.6       40\n",
       "4     0   59  26.2       40"
      ]
     },
     "execution_count": 5,
     "metadata": {},
     "output_type": "execute_result"
    }
   ],
   "source": [
    "\n",
    "# Display the first few rows of the dataframe to inspect the data\n",
    "df.head()"
   ]
  },
  {
   "cell_type": "code",
   "execution_count": 6,
   "metadata": {},
   "outputs": [],
   "source": [
    "# Separate target variable (y) and features (x)\n",
    "y_column = 'case'  # Column name\n",
    "X_columns = ['AGE', 'BMI', 'density']  # Column names\n",
    "\n",
    "y = df[y_column] # Seperate target variable y, and features X from dataframe\n",
    "X = df[X_columns]"
   ]
  },
  {
   "cell_type": "code",
   "execution_count": 7,
   "metadata": {},
   "outputs": [],
   "source": [
    "# Apply train-test split\n",
    "data = pd.concat([y, X], axis=1)  # Concatenate X and y to one dataframe"
   ]
  },
  {
   "cell_type": "code",
   "execution_count": 8,
   "metadata": {},
   "outputs": [
    {
     "name": "stdout",
     "output_type": "stream",
     "text": [
      "Train data number of examples:\n",
      "639\n",
      "CV data number of examples:\n",
      "213\n",
      "Test data number of examples:\n",
      "213\n"
     ]
    },
    {
     "data": {
      "text/html": [
       "<div>\n",
       "<style scoped>\n",
       "    .dataframe tbody tr th:only-of-type {\n",
       "        vertical-align: middle;\n",
       "    }\n",
       "\n",
       "    .dataframe tbody tr th {\n",
       "        vertical-align: top;\n",
       "    }\n",
       "\n",
       "    .dataframe thead th {\n",
       "        text-align: right;\n",
       "    }\n",
       "</style>\n",
       "<table border=\"1\" class=\"dataframe\">\n",
       "  <thead>\n",
       "    <tr style=\"text-align: right;\">\n",
       "      <th></th>\n",
       "      <th>case</th>\n",
       "      <th>AGE</th>\n",
       "      <th>BMI</th>\n",
       "      <th>density</th>\n",
       "    </tr>\n",
       "  </thead>\n",
       "  <tbody>\n",
       "    <tr>\n",
       "      <th>956</th>\n",
       "      <td>0</td>\n",
       "      <td>45</td>\n",
       "      <td>19.1</td>\n",
       "      <td>90</td>\n",
       "    </tr>\n",
       "    <tr>\n",
       "      <th>213</th>\n",
       "      <td>0</td>\n",
       "      <td>48</td>\n",
       "      <td>33.3</td>\n",
       "      <td>75</td>\n",
       "    </tr>\n",
       "    <tr>\n",
       "      <th>843</th>\n",
       "      <td>1</td>\n",
       "      <td>60</td>\n",
       "      <td>25.7</td>\n",
       "      <td>45</td>\n",
       "    </tr>\n",
       "    <tr>\n",
       "      <th>550</th>\n",
       "      <td>0</td>\n",
       "      <td>45</td>\n",
       "      <td>31.2</td>\n",
       "      <td>70</td>\n",
       "    </tr>\n",
       "    <tr>\n",
       "      <th>624</th>\n",
       "      <td>0</td>\n",
       "      <td>54</td>\n",
       "      <td>30.4</td>\n",
       "      <td>30</td>\n",
       "    </tr>\n",
       "  </tbody>\n",
       "</table>\n",
       "</div>"
      ],
      "text/plain": [
       "     case  AGE   BMI  density\n",
       "956     0   45  19.1       90\n",
       "213     0   48  33.3       75\n",
       "843     1   60  25.7       45\n",
       "550     0   45  31.2       70\n",
       "624     0   54  30.4       30"
      ]
     },
     "execution_count": 8,
     "metadata": {},
     "output_type": "execute_result"
    }
   ],
   "source": [
    "\n",
    "train_data, cv_data, test_data = split_data(data)\n",
    "\n",
    "# Test number of examples in train, cv and test sets\n",
    "print(\"Train data number of examples:\")\n",
    "print(len(train_data))\n",
    "print(\"CV data number of examples:\")\n",
    "print(len(cv_data))\n",
    "print(\"Test data number of examples:\")\n",
    "print(len(test_data))\n",
    "\n",
    "# Print the first few rows of the train data to inspect the data\n",
    "train_data.head()"
   ]
  },
  {
   "cell_type": "code",
   "execution_count": 9,
   "metadata": {},
   "outputs": [],
   "source": [
    "# Apply Isolation Forest to detect outliers and remove them from each set (save removed data in a separate dataframe)\n",
    "train_data, removed_data1 = remove_outliers(train_data)\n",
    "cv_data, removed_data2 = remove_outliers(cv_data)\n",
    "test_data, removed_data3 = remove_outliers(test_data)\n",
    "removed_data = pd.concat([removed_data1, removed_data2, removed_data3])"
   ]
  },
  {
   "cell_type": "code",
   "execution_count": 10,
   "metadata": {},
   "outputs": [
    {
     "name": "stdout",
     "output_type": "stream",
     "text": [
      "Train data number of outliers:\n",
      "32\n",
      "CV data number of outliers:\n",
      "11\n",
      "Test data number of outliers:\n",
      "11\n"
     ]
    }
   ],
   "source": [
    "# Print number of outliers in each set\n",
    "print(\"Train data number of outliers:\")\n",
    "print(len(removed_data1))\n",
    "print(\"CV data number of outliers:\")\n",
    "print(len(removed_data2))\n",
    "print(\"Test data number of outliers:\")\n",
    "print(len(removed_data3))"
   ]
  },
  {
   "cell_type": "code",
   "execution_count": 11,
   "metadata": {},
   "outputs": [
    {
     "data": {
      "text/html": [
       "<div>\n",
       "<style scoped>\n",
       "    .dataframe tbody tr th:only-of-type {\n",
       "        vertical-align: middle;\n",
       "    }\n",
       "\n",
       "    .dataframe tbody tr th {\n",
       "        vertical-align: top;\n",
       "    }\n",
       "\n",
       "    .dataframe thead th {\n",
       "        text-align: right;\n",
       "    }\n",
       "</style>\n",
       "<table border=\"1\" class=\"dataframe\">\n",
       "  <thead>\n",
       "    <tr style=\"text-align: right;\">\n",
       "      <th></th>\n",
       "      <th>case</th>\n",
       "      <th>AGE</th>\n",
       "      <th>BMI</th>\n",
       "      <th>density</th>\n",
       "    </tr>\n",
       "  </thead>\n",
       "  <tbody>\n",
       "    <tr>\n",
       "      <th>956</th>\n",
       "      <td>0</td>\n",
       "      <td>-0.842398</td>\n",
       "      <td>-1.710404</td>\n",
       "      <td>1.503131</td>\n",
       "    </tr>\n",
       "    <tr>\n",
       "      <th>213</th>\n",
       "      <td>0</td>\n",
       "      <td>-0.316333</td>\n",
       "      <td>1.551384</td>\n",
       "      <td>1.005639</td>\n",
       "    </tr>\n",
       "    <tr>\n",
       "      <th>843</th>\n",
       "      <td>1</td>\n",
       "      <td>1.787930</td>\n",
       "      <td>-0.194361</td>\n",
       "      <td>0.010655</td>\n",
       "    </tr>\n",
       "    <tr>\n",
       "      <th>550</th>\n",
       "      <td>0</td>\n",
       "      <td>-0.842398</td>\n",
       "      <td>1.069007</td>\n",
       "      <td>0.839808</td>\n",
       "    </tr>\n",
       "    <tr>\n",
       "      <th>624</th>\n",
       "      <td>0</td>\n",
       "      <td>0.735799</td>\n",
       "      <td>0.885245</td>\n",
       "      <td>-0.486838</td>\n",
       "    </tr>\n",
       "  </tbody>\n",
       "</table>\n",
       "</div>"
      ],
      "text/plain": [
       "     case       AGE       BMI   density\n",
       "956     0 -0.842398 -1.710404  1.503131\n",
       "213     0 -0.316333  1.551384  1.005639\n",
       "843     1  1.787930 -0.194361  0.010655\n",
       "550     0 -0.842398  1.069007  0.839808\n",
       "624     0  0.735799  0.885245 -0.486838"
      ]
     },
     "execution_count": 11,
     "metadata": {},
     "output_type": "execute_result"
    }
   ],
   "source": [
    "# Apply Z-score normalization to scale the features for each set\n",
    "train_data = normalize_data(train_data)\n",
    "cv_data = normalize_data(cv_data)\n",
    "test_data = normalize_data(test_data)\n",
    "# Print first few rows of normalized data to inspect the data\n",
    "train_data.head()"
   ]
  },
  {
   "cell_type": "code",
   "execution_count": 16,
   "metadata": {},
   "outputs": [],
   "source": [
    "# Save the preprocessed data to respective Excel files and the removed outliers to another Excel file\n",
    "train_data.to_excel('train_data.xlsx', index=False)\n",
    "cv_data.to_excel('cv_data.xlsx', index=False)\n",
    "test_data.to_excel('test_data.xlsx', index=False)\n",
    "removed_data.to_excel('removed_data.xlsx', index=False)"
   ]
  }
 ],
 "metadata": {
  "kernelspec": {
   "display_name": "venv",
   "language": "python",
   "name": "python3"
  },
  "language_info": {
   "codemirror_mode": {
    "name": "ipython",
    "version": 3
   },
   "file_extension": ".py",
   "mimetype": "text/x-python",
   "name": "python",
   "nbconvert_exporter": "python",
   "pygments_lexer": "ipython3",
   "version": "3.10.5"
  }
 },
 "nbformat": 4,
 "nbformat_minor": 2
}
